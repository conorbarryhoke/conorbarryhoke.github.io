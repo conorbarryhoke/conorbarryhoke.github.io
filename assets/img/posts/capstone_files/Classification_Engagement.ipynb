{
 "cells": [
  {
   "cell_type": "markdown",
   "metadata": {},
   "source": [
    "Left off at DBScan"
   ]
  },
  {
   "cell_type": "markdown",
   "metadata": {},
   "source": [
    "# TOC"
   ]
  },
  {
   "cell_type": "markdown",
   "metadata": {},
   "source": [
    "0. [Imports](#first-bullet)\n",
    "1. [EDA](#1.0-bullet)\n",
    "2. [Feature Engineering](#2.0-bullet)  \n",
    " 2.1 [Pt 1 - Regression](#2.1-bullet)  \n",
    " 2.2 [Pt 2 - Classification](#2.2-bullet)\n",
    "3. [Basic Model](#3.0-bullet)  \n",
    " 3.1 [Pt 1 - Regression](#3.1-bullet)  \n",
    " 3.2 [Pt 2 - Classification](#3.2-bullet)\n",
    "4. [Reference and Planning](#4.0-bullet)"
   ]
  },
  {
   "cell_type": "code",
   "execution_count": 1,
   "metadata": {},
   "outputs": [],
   "source": [
    "#Basic\n",
    "import pandas as pd\n",
    "import numpy as np\n",
    "#Math\n",
    "import scipy as sp\n",
    "from random import randint\n",
    "from math import exp\n",
    "import operator\n",
    "\n",
    "#Scraping\n",
    "import requests\n",
    "import json\n",
    "\n",
    "#Youtube Data API Packages: \n",
    "\"\"\"from apiclient.discovery import build\n",
    "from apiclient.errors import HttpError\n",
    "from oauth2client.tools import argparser\n",
    "from googleapiclient.discovery import build\n",
    "import argparse\n",
    "from googleapiclient.errors import HttpError\"\"\"\n",
    "\n",
    "#Modeling\n",
    "from sklearn.model_selection import cross_val_score, train_test_split, GridSearchCV\n",
    "from sklearn.preprocessing import StandardScaler\n",
    "from sklearn.linear_model import LogisticRegression\n",
    "#from sklearn.naive_bayes import MultinomialNB\n",
    "from sklearn.ensemble import RandomForestClassifier, GradientBoostingClassifier\n",
    "from sklearn.neighbors import KNeighborsClassifier\n",
    "#from sklearn.cluster import KMeans\n",
    "from sklearn.svm import SVC\n",
    "from sklearn.metrics import r2_score,confusion_matrix, roc_auc_score, roc_curve\n",
    "\n",
    "#NLP & Text Management\n",
    "# from sklearn.feature_extraction import stop_words\n",
    "# from sklearn.feature_extraction.text import CountVectorizer\n",
    "# from sklearn.feature_extraction.text import TfidfVectorizer\n",
    "# import re\n",
    "# from textblob import TextBlob\n",
    "# from wordcloud import WordCloud\n",
    "# from nltk.stem import PorterStemmer\n",
    "\n",
    "#Time analysis\n",
    "import time\n",
    "import datetime\n",
    "# from statsmodels.tsa.stattools import pacf\n",
    "# from statsmodels.graphics.tsaplots import plot_pacf\n",
    "\n",
    "#Plotting\n",
    "import matplotlib.pyplot as plt\n",
    "import seaborn as sns\n",
    "#from wordcloud import WordCloud\n",
    "\n",
    "%matplotlib inline\n",
    "plt.style.use('classic')\n",
    "sns.set_style('whitegrid')"
   ]
  },
  {
   "cell_type": "code",
   "execution_count": 151,
   "metadata": {},
   "outputs": [],
   "source": [
    "df_main = pd.read_csv('./data/engineered_data/data_genres_v2.csv')"
   ]
  },
  {
   "cell_type": "code",
   "execution_count": 80,
   "metadata": {},
   "outputs": [],
   "source": [
    "model_time = ['is_weekend', 'is_friday', 'year_day', 'week', 'week_day', 'month', 'month_day', 'year',  ]\n",
    "model_text = ['description_sentiment', 'description_wordcount',\n",
    "  'tags_sentiment', 'tags_wordcount', 'title_sentiment',\n",
    " 'title_wordcount', 'title_featuring', 'title_length', ]\n",
    "model_title_letter = ['intitle_a',  'intitle_b', 'intitle_c', 'intitle_d', 'intitle_e', 'intitle_f', 'intitle_g',\n",
    " 'intitle_h', 'intitle_i', 'intitle_j', 'intitle_k', 'intitle_l', 'intitle_m', 'intitle_n', 'intitle_o',\n",
    " 'intitle_p', 'intitle_q', 'intitle_r', 'intitle_s', 'intitle_t', 'intitle_u', 'intitle_v', 'intitle_w',\n",
    " 'intitle_x', 'intitle_y', 'intitle_z',]              \n",
    "model_ratios = ['lv_ratio', 'comment_view_ratio', 'like_dislike_ratio',]\n",
    "model_other = ['duration', 'contentRating', 'regionRestriction',  'licensedContent', 'caption', 'definition']\n",
    "measures = ['likeCount', 'dislikeCount', 'commentCount', 'viewCount',\n",
    "            'view_log',  'comment_log',  'like_log', 'dislike_log', \n",
    "            'view_class' ]\n",
    "non_model_cols = ['request_token', 'letter_search','channelTitle', 'tags', 'title', 'vidId','publishedAt','favoriteCount',\n",
    "              'description','defaultLanguage', ]"
   ]
  },
  {
   "cell_type": "code",
   "execution_count": 81,
   "metadata": {},
   "outputs": [],
   "source": [
    "genre_list_str = ['alt_words', 'blues_words', 'christian_words', 'classical_words', 'country_words', 'dubstep_words', \n",
    "                 'edm_words', 'extended_words', 'folk_words', 'halloween_words', 'hit_words', 'italian_words', 'jazz_words', \n",
    "                 'kpop_words', 'latin_words', 'love_songs', 'other_rock_words', 'pop_words', 'rap_words', 'remix_words', \n",
    "                 'reggae_words', 'romanian_words', 'relax_words', 'rock_words', 'trap_words']\n",
    "deltas_list = ['like_baseline_delta', 'comment_baseline_delta', 'dislike_baseline_delta', 'ld_baseline_delta' ]"
   ]
  },
  {
   "cell_type": "code",
   "execution_count": 154,
   "metadata": {},
   "outputs": [],
   "source": [
    "baseline_stats = pd.read_csv('./data/engineered_data/engagement_matrix_v2.csv')"
   ]
  },
  {
   "cell_type": "code",
   "execution_count": 83,
   "metadata": {},
   "outputs": [],
   "source": [
    "df_formodel = df_main[(df_main.view_log>4)&(df_main.lv_ratio>0)&(df_main.comment_view_ratio>0)&(df_main.like_dislike_ratio<10)]"
   ]
  },
  {
   "cell_type": "code",
   "execution_count": 152,
   "metadata": {},
   "outputs": [],
   "source": [
    "temp = df_formodel.drop('description', axis=1).to_csv('./data/engineered_data/data_genres_nodescr.csv')"
   ]
  },
  {
   "cell_type": "markdown",
   "metadata": {},
   "source": [
    "# <a class=\"anchor\" id=\"1.0-bullet\">1. Basic Grouping</a>"
   ]
  },
  {
   "cell_type": "code",
   "execution_count": 8,
   "metadata": {},
   "outputs": [],
   "source": [
    "#Engagement per second of content? See diminishing returns"
   ]
  },
  {
   "cell_type": "markdown",
   "metadata": {},
   "source": [
    "## "
   ]
  },
  {
   "cell_type": "code",
   "execution_count": 85,
   "metadata": {},
   "outputs": [],
   "source": [
    "like_dict ={}\n",
    "comment_dict = {}\n",
    "dislike_dict = {}\n",
    "ld_dict = {}\n",
    "view_dict = {}\n",
    "duration_dict = {}\n",
    "for genre in genre_list_str:\n",
    "    like_dict[genre] = df_formodel[df_formodel[genre]==1].like_baseline_delta.mean()\n",
    "    comment_dict[genre] = df_formodel[df_formodel[genre]==1].comment_baseline_delta.mean()\n",
    "    dislike_dict[genre] = df_formodel[df_formodel[genre]==1].dislike_baseline_delta.mean()\n",
    "    ld_dict[genre] = df_formodel[df_formodel[genre]==1].ld_baseline_delta.mean()\n",
    "    view_dict[genre] = df_formodel[df_formodel[genre]==1].view_log.mean()\n",
    "    duration_dict[genre] = df_formodel[df_formodel[genre]==1].duration.mean()"
   ]
  },
  {
   "cell_type": "code",
   "execution_count": 86,
   "metadata": {},
   "outputs": [],
   "source": [
    "df_engagement = pd.concat([\n",
    "    pd.Series(like_dict), pd.Series(comment_dict), pd.Series(dislike_dict), pd.Series(ld_dict), pd.Series(view_dict), pd.Series(duration_dict)]\n",
    "    , axis=1)"
   ]
  },
  {
   "cell_type": "code",
   "execution_count": 87,
   "metadata": {},
   "outputs": [],
   "source": [
    "df_engagement.columns=['likes', 'comments', 'dislikes', 'likes_dislikes', 'views', 'duration']"
   ]
  },
  {
   "cell_type": "code",
   "execution_count": 88,
   "metadata": {},
   "outputs": [],
   "source": [
    "df_engagement['count'] = df_formodel[genre_list_str].sum()"
   ]
  },
  {
   "cell_type": "code",
   "execution_count": 132,
   "metadata": {},
   "outputs": [
    {
     "data": {
      "text/html": [
       "<div>\n",
       "<style scoped>\n",
       "    .dataframe tbody tr th:only-of-type {\n",
       "        vertical-align: middle;\n",
       "    }\n",
       "\n",
       "    .dataframe tbody tr th {\n",
       "        vertical-align: top;\n",
       "    }\n",
       "\n",
       "    .dataframe thead th {\n",
       "        text-align: right;\n",
       "    }\n",
       "</style>\n",
       "<table border=\"1\" class=\"dataframe\">\n",
       "  <thead>\n",
       "    <tr style=\"text-align: right;\">\n",
       "      <th></th>\n",
       "      <th>likes</th>\n",
       "      <th>comments</th>\n",
       "      <th>dislikes</th>\n",
       "      <th>likes_dislikes</th>\n",
       "      <th>views</th>\n",
       "      <th>duration</th>\n",
       "      <th>count</th>\n",
       "    </tr>\n",
       "  </thead>\n",
       "  <tbody>\n",
       "    <tr>\n",
       "      <th>alt_words</th>\n",
       "      <td>-0.088927</td>\n",
       "      <td>-0.055240</td>\n",
       "      <td>-0.187913</td>\n",
       "      <td>-0.097437</td>\n",
       "      <td>7.337039</td>\n",
       "      <td>287.128743</td>\n",
       "      <td>668</td>\n",
       "    </tr>\n",
       "    <tr>\n",
       "      <th>blues_words</th>\n",
       "      <td>NaN</td>\n",
       "      <td>NaN</td>\n",
       "      <td>NaN</td>\n",
       "      <td>NaN</td>\n",
       "      <td>NaN</td>\n",
       "      <td>NaN</td>\n",
       "      <td>0</td>\n",
       "    </tr>\n",
       "    <tr>\n",
       "      <th>christian_words</th>\n",
       "      <td>-0.144493</td>\n",
       "      <td>-0.466445</td>\n",
       "      <td>-0.233041</td>\n",
       "      <td>-0.086033</td>\n",
       "      <td>6.463699</td>\n",
       "      <td>479.310345</td>\n",
       "      <td>29</td>\n",
       "    </tr>\n",
       "    <tr>\n",
       "      <th>classical_words</th>\n",
       "      <td>-0.567402</td>\n",
       "      <td>-0.197980</td>\n",
       "      <td>-0.704633</td>\n",
       "      <td>-0.127355</td>\n",
       "      <td>5.754542</td>\n",
       "      <td>1333.038462</td>\n",
       "      <td>52</td>\n",
       "    </tr>\n",
       "    <tr>\n",
       "      <th>country_words</th>\n",
       "      <td>-0.203430</td>\n",
       "      <td>-0.383541</td>\n",
       "      <td>0.071151</td>\n",
       "      <td>0.278123</td>\n",
       "      <td>6.806138</td>\n",
       "      <td>328.500000</td>\n",
       "      <td>6</td>\n",
       "    </tr>\n",
       "    <tr>\n",
       "      <th>dubstep_words</th>\n",
       "      <td>0.256788</td>\n",
       "      <td>0.106393</td>\n",
       "      <td>-0.020025</td>\n",
       "      <td>-0.281283</td>\n",
       "      <td>6.362990</td>\n",
       "      <td>561.538462</td>\n",
       "      <td>117</td>\n",
       "    </tr>\n",
       "    <tr>\n",
       "      <th>edm_words</th>\n",
       "      <td>0.470519</td>\n",
       "      <td>0.181021</td>\n",
       "      <td>0.433067</td>\n",
       "      <td>-0.045643</td>\n",
       "      <td>6.730460</td>\n",
       "      <td>465.162162</td>\n",
       "      <td>37</td>\n",
       "    </tr>\n",
       "    <tr>\n",
       "      <th>extended_words</th>\n",
       "      <td>-0.028710</td>\n",
       "      <td>-0.078881</td>\n",
       "      <td>-0.113041</td>\n",
       "      <td>-0.083831</td>\n",
       "      <td>6.312149</td>\n",
       "      <td>634.700000</td>\n",
       "      <td>60</td>\n",
       "    </tr>\n",
       "    <tr>\n",
       "      <th>folk_words</th>\n",
       "      <td>0.076831</td>\n",
       "      <td>-0.140673</td>\n",
       "      <td>-0.197734</td>\n",
       "      <td>-0.275902</td>\n",
       "      <td>6.660259</td>\n",
       "      <td>384.878049</td>\n",
       "      <td>82</td>\n",
       "    </tr>\n",
       "    <tr>\n",
       "      <th>halloween_words</th>\n",
       "      <td>0.863405</td>\n",
       "      <td>0.637436</td>\n",
       "      <td>0.529297</td>\n",
       "      <td>-0.349137</td>\n",
       "      <td>7.075408</td>\n",
       "      <td>272.714286</td>\n",
       "      <td>21</td>\n",
       "    </tr>\n",
       "    <tr>\n",
       "      <th>hit_words</th>\n",
       "      <td>-0.105744</td>\n",
       "      <td>-0.028898</td>\n",
       "      <td>-0.193390</td>\n",
       "      <td>-0.085805</td>\n",
       "      <td>7.662304</td>\n",
       "      <td>259.024444</td>\n",
       "      <td>450</td>\n",
       "    </tr>\n",
       "    <tr>\n",
       "      <th>italian_words</th>\n",
       "      <td>-0.437549</td>\n",
       "      <td>-0.745738</td>\n",
       "      <td>-0.254843</td>\n",
       "      <td>0.190323</td>\n",
       "      <td>6.744561</td>\n",
       "      <td>318.437500</td>\n",
       "      <td>16</td>\n",
       "    </tr>\n",
       "    <tr>\n",
       "      <th>jazz_words</th>\n",
       "      <td>-0.269522</td>\n",
       "      <td>-0.288616</td>\n",
       "      <td>-0.337338</td>\n",
       "      <td>-0.063124</td>\n",
       "      <td>6.412232</td>\n",
       "      <td>465.789474</td>\n",
       "      <td>19</td>\n",
       "    </tr>\n",
       "    <tr>\n",
       "      <th>kpop_words</th>\n",
       "      <td>0.773509</td>\n",
       "      <td>0.902087</td>\n",
       "      <td>0.113267</td>\n",
       "      <td>-0.673707</td>\n",
       "      <td>6.724559</td>\n",
       "      <td>459.317073</td>\n",
       "      <td>41</td>\n",
       "    </tr>\n",
       "    <tr>\n",
       "      <th>latin_words</th>\n",
       "      <td>0.021767</td>\n",
       "      <td>-0.140738</td>\n",
       "      <td>0.270705</td>\n",
       "      <td>0.248559</td>\n",
       "      <td>7.503166</td>\n",
       "      <td>253.819048</td>\n",
       "      <td>105</td>\n",
       "    </tr>\n",
       "    <tr>\n",
       "      <th>love_songs</th>\n",
       "      <td>0.419238</td>\n",
       "      <td>0.282773</td>\n",
       "      <td>-0.152073</td>\n",
       "      <td>-0.578609</td>\n",
       "      <td>6.933464</td>\n",
       "      <td>383.291667</td>\n",
       "      <td>48</td>\n",
       "    </tr>\n",
       "    <tr>\n",
       "      <th>other_rock_words</th>\n",
       "      <td>0.051966</td>\n",
       "      <td>0.027834</td>\n",
       "      <td>-0.261185</td>\n",
       "      <td>-0.314055</td>\n",
       "      <td>6.674442</td>\n",
       "      <td>672.076923</td>\n",
       "      <td>39</td>\n",
       "    </tr>\n",
       "    <tr>\n",
       "      <th>pop_words</th>\n",
       "      <td>0.078255</td>\n",
       "      <td>0.082341</td>\n",
       "      <td>-0.004863</td>\n",
       "      <td>-0.084481</td>\n",
       "      <td>7.237326</td>\n",
       "      <td>303.896119</td>\n",
       "      <td>876</td>\n",
       "    </tr>\n",
       "    <tr>\n",
       "      <th>rap_words</th>\n",
       "      <td>0.134473</td>\n",
       "      <td>0.049910</td>\n",
       "      <td>0.273646</td>\n",
       "      <td>0.136832</td>\n",
       "      <td>6.638441</td>\n",
       "      <td>549.838323</td>\n",
       "      <td>167</td>\n",
       "    </tr>\n",
       "    <tr>\n",
       "      <th>remix_words</th>\n",
       "      <td>-0.011473</td>\n",
       "      <td>-0.072316</td>\n",
       "      <td>-0.108581</td>\n",
       "      <td>-0.096908</td>\n",
       "      <td>7.210568</td>\n",
       "      <td>328.937388</td>\n",
       "      <td>559</td>\n",
       "    </tr>\n",
       "    <tr>\n",
       "      <th>reggae_words</th>\n",
       "      <td>-0.516178</td>\n",
       "      <td>-0.706857</td>\n",
       "      <td>-0.649616</td>\n",
       "      <td>-0.124452</td>\n",
       "      <td>6.605652</td>\n",
       "      <td>252.666667</td>\n",
       "      <td>6</td>\n",
       "    </tr>\n",
       "    <tr>\n",
       "      <th>romanian_words</th>\n",
       "      <td>-0.456710</td>\n",
       "      <td>-0.618727</td>\n",
       "      <td>-0.228772</td>\n",
       "      <td>0.235888</td>\n",
       "      <td>6.806652</td>\n",
       "      <td>230.735294</td>\n",
       "      <td>34</td>\n",
       "    </tr>\n",
       "    <tr>\n",
       "      <th>relax_words</th>\n",
       "      <td>0.154262</td>\n",
       "      <td>-0.049108</td>\n",
       "      <td>0.801542</td>\n",
       "      <td>0.644595</td>\n",
       "      <td>6.707702</td>\n",
       "      <td>2196.454545</td>\n",
       "      <td>22</td>\n",
       "    </tr>\n",
       "    <tr>\n",
       "      <th>rock_words</th>\n",
       "      <td>0.735815</td>\n",
       "      <td>0.870082</td>\n",
       "      <td>0.359144</td>\n",
       "      <td>-0.389480</td>\n",
       "      <td>6.231856</td>\n",
       "      <td>287.500000</td>\n",
       "      <td>4</td>\n",
       "    </tr>\n",
       "    <tr>\n",
       "      <th>trap_words</th>\n",
       "      <td>0.485114</td>\n",
       "      <td>0.192692</td>\n",
       "      <td>0.358701</td>\n",
       "      <td>-0.134857</td>\n",
       "      <td>7.022341</td>\n",
       "      <td>248.333333</td>\n",
       "      <td>180</td>\n",
       "    </tr>\n",
       "  </tbody>\n",
       "</table>\n",
       "</div>"
      ],
      "text/plain": [
       "                     likes  comments  dislikes  likes_dislikes     views  \\\n",
       "alt_words        -0.088927 -0.055240 -0.187913       -0.097437  7.337039   \n",
       "blues_words            NaN       NaN       NaN             NaN       NaN   \n",
       "christian_words  -0.144493 -0.466445 -0.233041       -0.086033  6.463699   \n",
       "classical_words  -0.567402 -0.197980 -0.704633       -0.127355  5.754542   \n",
       "country_words    -0.203430 -0.383541  0.071151        0.278123  6.806138   \n",
       "dubstep_words     0.256788  0.106393 -0.020025       -0.281283  6.362990   \n",
       "edm_words         0.470519  0.181021  0.433067       -0.045643  6.730460   \n",
       "extended_words   -0.028710 -0.078881 -0.113041       -0.083831  6.312149   \n",
       "folk_words        0.076831 -0.140673 -0.197734       -0.275902  6.660259   \n",
       "halloween_words   0.863405  0.637436  0.529297       -0.349137  7.075408   \n",
       "hit_words        -0.105744 -0.028898 -0.193390       -0.085805  7.662304   \n",
       "italian_words    -0.437549 -0.745738 -0.254843        0.190323  6.744561   \n",
       "jazz_words       -0.269522 -0.288616 -0.337338       -0.063124  6.412232   \n",
       "kpop_words        0.773509  0.902087  0.113267       -0.673707  6.724559   \n",
       "latin_words       0.021767 -0.140738  0.270705        0.248559  7.503166   \n",
       "love_songs        0.419238  0.282773 -0.152073       -0.578609  6.933464   \n",
       "other_rock_words  0.051966  0.027834 -0.261185       -0.314055  6.674442   \n",
       "pop_words         0.078255  0.082341 -0.004863       -0.084481  7.237326   \n",
       "rap_words         0.134473  0.049910  0.273646        0.136832  6.638441   \n",
       "remix_words      -0.011473 -0.072316 -0.108581       -0.096908  7.210568   \n",
       "reggae_words     -0.516178 -0.706857 -0.649616       -0.124452  6.605652   \n",
       "romanian_words   -0.456710 -0.618727 -0.228772        0.235888  6.806652   \n",
       "relax_words       0.154262 -0.049108  0.801542        0.644595  6.707702   \n",
       "rock_words        0.735815  0.870082  0.359144       -0.389480  6.231856   \n",
       "trap_words        0.485114  0.192692  0.358701       -0.134857  7.022341   \n",
       "\n",
       "                     duration  count  \n",
       "alt_words          287.128743    668  \n",
       "blues_words               NaN      0  \n",
       "christian_words    479.310345     29  \n",
       "classical_words   1333.038462     52  \n",
       "country_words      328.500000      6  \n",
       "dubstep_words      561.538462    117  \n",
       "edm_words          465.162162     37  \n",
       "extended_words     634.700000     60  \n",
       "folk_words         384.878049     82  \n",
       "halloween_words    272.714286     21  \n",
       "hit_words          259.024444    450  \n",
       "italian_words      318.437500     16  \n",
       "jazz_words         465.789474     19  \n",
       "kpop_words         459.317073     41  \n",
       "latin_words        253.819048    105  \n",
       "love_songs         383.291667     48  \n",
       "other_rock_words   672.076923     39  \n",
       "pop_words          303.896119    876  \n",
       "rap_words          549.838323    167  \n",
       "remix_words        328.937388    559  \n",
       "reggae_words       252.666667      6  \n",
       "romanian_words     230.735294     34  \n",
       "relax_words       2196.454545     22  \n",
       "rock_words         287.500000      4  \n",
       "trap_words         248.333333    180  "
      ]
     },
     "execution_count": 132,
     "metadata": {},
     "output_type": "execute_result"
    }
   ],
   "source": [
    "df_engagement"
   ]
  },
  {
   "cell_type": "code",
   "execution_count": 133,
   "metadata": {},
   "outputs": [],
   "source": [
    "df_engagement.to_csv('./data/classifieds/genre_summary_stats4.csv') #Index is categories,so keep"
   ]
  },
  {
   "cell_type": "code",
   "execution_count": 155,
   "metadata": {},
   "outputs": [
    {
     "data": {
      "text/html": [
       "<div>\n",
       "<style scoped>\n",
       "    .dataframe tbody tr th:only-of-type {\n",
       "        vertical-align: middle;\n",
       "    }\n",
       "\n",
       "    .dataframe tbody tr th {\n",
       "        vertical-align: top;\n",
       "    }\n",
       "\n",
       "    .dataframe thead th {\n",
       "        text-align: right;\n",
       "    }\n",
       "</style>\n",
       "<table border=\"1\" class=\"dataframe\">\n",
       "  <thead>\n",
       "    <tr style=\"text-align: right;\">\n",
       "      <th></th>\n",
       "      <th>Unnamed: 0</th>\n",
       "      <th>Slopes</th>\n",
       "      <th>Intercepts</th>\n",
       "      <th>St_Dev</th>\n",
       "    </tr>\n",
       "  </thead>\n",
       "  <tbody>\n",
       "    <tr>\n",
       "      <th>0</th>\n",
       "      <td>likes_est</td>\n",
       "      <td>0.091754</td>\n",
       "      <td>1.539787</td>\n",
       "      <td>0.332615</td>\n",
       "    </tr>\n",
       "    <tr>\n",
       "      <th>1</th>\n",
       "      <td>comments_est</td>\n",
       "      <td>0.162706</td>\n",
       "      <td>2.337287</td>\n",
       "      <td>0.439887</td>\n",
       "    </tr>\n",
       "    <tr>\n",
       "      <th>2</th>\n",
       "      <td>dislikes_est</td>\n",
       "      <td>0.025266</td>\n",
       "      <td>3.410242</td>\n",
       "      <td>0.326924</td>\n",
       "    </tr>\n",
       "    <tr>\n",
       "      <th>3</th>\n",
       "      <td>ld_ratio</td>\n",
       "      <td>-0.066488</td>\n",
       "      <td>1.870455</td>\n",
       "      <td>0.313754</td>\n",
       "    </tr>\n",
       "  </tbody>\n",
       "</table>\n",
       "</div>"
      ],
      "text/plain": [
       "     Unnamed: 0    Slopes  Intercepts    St_Dev\n",
       "0     likes_est  0.091754    1.539787  0.332615\n",
       "1  comments_est  0.162706    2.337287  0.439887\n",
       "2  dislikes_est  0.025266    3.410242  0.326924\n",
       "3      ld_ratio -0.066488    1.870455  0.313754"
      ]
     },
     "execution_count": 155,
     "metadata": {},
     "output_type": "execute_result"
    }
   ],
   "source": [
    "baseline_stats"
   ]
  },
  {
   "cell_type": "markdown",
   "metadata": {},
   "source": [
    "## Top Viewed"
   ]
  },
  {
   "cell_type": "code",
   "execution_count": 135,
   "metadata": {},
   "outputs": [],
   "source": [
    "top_viewed_list = []\n",
    "for genre in genre_list_str:\n",
    "    top_viewed_list += list(df_formodel[df_formodel[genre]==1].sort_values(by='view_log', ascending=False).head(15).index)\n",
    "\n",
    "\n",
    "temp = df_formodel.iloc[top_viewed_list, :].drop(['index', 'description', 'tags'], axis=1).reset_index().drop('index', axis=1)\n",
    "\n",
    "temp.loc[:, genre_list_str] = temp.loc[:, genre_list_str]*1\n",
    "\n",
    "temp.loc[:, ['vidId']] = temp.vidId.map(lambda x: 'https://www.youtube.com/watch?v='+str(x))\n",
    "\n",
    "temp.to_csv('data/classifieds/top_viewed_genre6.csv', index=False)"
   ]
  },
  {
   "cell_type": "markdown",
   "metadata": {},
   "source": [
    "## Custom Classifier"
   ]
  },
  {
   "cell_type": "code",
   "execution_count": 156,
   "metadata": {},
   "outputs": [],
   "source": [
    "df_formodel.loc[:, ['vidId']] = df_formodel.vidId.map(lambda x: 'https://www.youtube.com/watch?v='+str(x))"
   ]
  },
  {
   "cell_type": "code",
   "execution_count": 257,
   "metadata": {},
   "outputs": [],
   "source": [
    "def genre_getter(views=0, likes=0, comments=0, dislikes=0, video_link=None, genre=None):\n",
    "    if video_link is None:\n",
    "        views = np.log10(views)\n",
    "        likes = np.log10(likes)\n",
    "        comments = np.log10(comments)\n",
    "        dislikes = np.log10(dislikes)\n",
    "        ld_ratio = likes - dislikes\n",
    "    else:\n",
    "        views = df_formodel[df_formodel.vidId==video_link].view_log.iloc[0]\n",
    "        likes = df_formodel[df_formodel.vidId==video_link].like_log.iloc[0]\n",
    "        comments = df_formodel[df_formodel.vidId==video_link].comment_log.iloc[0]\n",
    "        dislikes = df_formodel[df_formodel.vidId==video_link].dislike_log.iloc[0]\n",
    "        ld_ratio = df_formodel[df_formodel.vidId==video_link].like_dislike_ratio.iloc[0]\n",
    "    #Get view-based estimate \n",
    "    likes_est = views - (baseline_stats.iloc[0,1]*views + baseline_stats.iloc[0,2])\n",
    "    comments_est = views - (baseline_stats.iloc[1,1]*views + baseline_stats.iloc[1,2])\n",
    "    dislikes_est = views - (baseline_stats.iloc[2,1]*views + baseline_stats.iloc[2,2])\n",
    "    ld_est = (baseline_stats.iloc[3,1]*views + baseline_stats.iloc[3,2])\n",
    "    #Compare to standard deviation of metric\n",
    "    likes_delta = (likes - likes_est) / baseline_stats.iloc[0,3]\n",
    "    comments_delta = (comments - comments_est) / baseline_stats.iloc[1,3]\n",
    "    dislikes_delta = (dislikes - dislikes_est) / baseline_stats.iloc[2,3]\n",
    "    ld_delta = (ld_ratio - ld_est) / baseline_stats.iloc[3,3]\n",
    "    \n",
    "    #Compare to provided genre\n",
    "    if genre is not None:\n",
    "        genre+='_words'\n",
    "        #Views\n",
    "        \n",
    "        #likes\n",
    "        if likes_delta > df_engagement.loc[genre, 'likes'] + baseline_stats.iloc[0,3]:\n",
    "            print('   more likes than average')\n",
    "        elif likes_delta < df_engagement.loc[genre, 'likes'] - baseline_stats.iloc[0,3]:\n",
    "            print('   fewer likes than average')\n",
    "        else:\n",
    "            print('   typical likes')\n",
    "            \n",
    "        #comments\n",
    "        if comments_delta > df_engagement.loc[genre, 'comments'] + baseline_stats.iloc[1,3]:\n",
    "            print('   more comments than average')\n",
    "        elif comments_delta < df_engagement.loc[genre, 'comments'] - baseline_stats.iloc[1,3]:\n",
    "            print('   fewer comments than average')\n",
    "        else:\n",
    "            print('   typical comments')\n",
    "            \n",
    "        #dislikes\n",
    "        if dislikes_delta > df_engagement.loc[genre, 'dislikes'] + baseline_stats.iloc[2,3]:\n",
    "            print('   more dislikes than average')\n",
    "        elif dislikes_delta < df_engagement.loc[genre, 'dislikes'] - baseline_stats.iloc[2,3]:\n",
    "            print('   fewer dislikes than average')\n",
    "        else:\n",
    "            print('   typical dislikes')\n",
    "            \n",
    "        #ld_ratio\n",
    "        if ld_delta > df_engagement.loc[genre, 'likes_dislikes'] + baseline_stats.iloc[3,3]:\n",
    "            print('   higher likes / dislike ratio than average')\n",
    "        elif ld_delta < df_engagement.loc[genre, 'likes_dislikes'] - baseline_stats.iloc[3,3]:\n",
    "            print('   lower likes / dislike ratio than average')\n",
    "        else:\n",
    "            print('   typical likes / dislike ratio')\n",
    "    \n",
    "    #find closest category\n",
    "    vals_array = np.array([likes_delta, comments_delta, dislikes_delta, ld_delta])\n",
    "    df_compared = df_engagement.loc[:, ['likes','comments','dislikes','likes_dislikes']]\n",
    "    \n",
    "    preds_list = []\n",
    "    for i in range(df_compared.shape[0]):\n",
    "        preds_list.append(sum((df_compared.iloc[i]-vals_array)**2)**.5 )\n",
    "        \n",
    "    df_compared['distances'] = preds_list\n",
    "    \n",
    "    return 'Most similar genre: ' + df_compared.sort_values(by='distances').head(1).index[0].replace('_words', '')\n",
    "    "
   ]
  },
  {
   "cell_type": "code",
   "execution_count": 253,
   "metadata": {},
   "outputs": [
    {
     "data": {
      "text/plain": [
       "array([0, 1, 4, 9], dtype=int32)"
      ]
     },
     "execution_count": 253,
     "metadata": {},
     "output_type": "execute_result"
    }
   ],
   "source": [
    "(np.array([1,2,3,4]) - np.array([1,1,1,1]))**2"
   ]
  },
  {
   "cell_type": "code",
   "execution_count": 258,
   "metadata": {},
   "outputs": [
    {
     "name": "stdout",
     "output_type": "stream",
     "text": [
      "   more likes than average\n",
      "   more comments than average\n",
      "   more dislikes than average\n",
      "   lower likes / dislike ratio than average\n"
     ]
    },
    {
     "data": {
      "text/plain": [
       "'Most similar genre:  rock'"
      ]
     },
     "execution_count": 258,
     "metadata": {},
     "output_type": "execute_result"
    }
   ],
   "source": [
    "genre_getter(video_link='https://www.youtube.com/watch?v=kJQP7kiw5Fk', genre='latin')"
   ]
  },
  {
   "cell_type": "code",
   "execution_count": 259,
   "metadata": {},
   "outputs": [
    {
     "name": "stdout",
     "output_type": "stream",
     "text": [
      "   more likes than average\n",
      "   more comments than average\n",
      "   more dislikes than average\n",
      "   higher likes / dislike ratio than average\n"
     ]
    },
    {
     "data": {
      "text/plain": [
       "'Most similar genre:  halloween'"
      ]
     },
     "execution_count": 259,
     "metadata": {},
     "output_type": "execute_result"
    }
   ],
   "source": [
    "genre_getter(views=92208583, likes=3000000, comments=189511, dislikes=82000, genre='rap')"
   ]
  },
  {
   "cell_type": "code",
   "execution_count": 260,
   "metadata": {},
   "outputs": [
    {
     "name": "stdout",
     "output_type": "stream",
     "text": [
      "   fewer likes than average\n",
      "   fewer comments than average\n",
      "   more dislikes than average\n",
      "   lower likes / dislike ratio than average\n"
     ]
    },
    {
     "data": {
      "text/plain": [
       "'Most similar genre:  italian'"
      ]
     },
     "execution_count": 260,
     "metadata": {},
     "output_type": "execute_result"
    }
   ],
   "source": [
    "genre_getter(video_link='https://www.youtube.com/watch?v=AGFOXpgsw1M', genre='latin')"
   ]
  },
  {
   "cell_type": "markdown",
   "metadata": {},
   "source": [
    "### Score Regression"
   ]
  },
  {
   "cell_type": "code",
   "execution_count": 1,
   "metadata": {},
   "outputs": [],
   "source": [
    "import pickle"
   ]
  },
  {
   "cell_type": "code",
   "execution_count": 2,
   "metadata": {},
   "outputs": [],
   "source": [
    "### reloading the pickled model into your python kernel\n",
    "with open('./pickles/rf_model.pkl', 'rb') as file:  \n",
    "    pickle_model = pickle.load(file)\n",
    "\n",
    "### reloading the pickled model into your python kernel\n",
    "with open('./pickles/rf_scaler.pkl', 'rb') as file:  \n",
    "    pickle_ss = pickle.load(file)"
   ]
  },
  {
   "cell_type": "code",
   "execution_count": 297,
   "metadata": {},
   "outputs": [],
   "source": [
    "pickle_deviation = .9"
   ]
  },
  {
   "cell_type": "code",
   "execution_count": 264,
   "metadata": {},
   "outputs": [],
   "source": [
    "cols_include = ['caption', 'definition', 'duration', 'licensedContent', 'regionRestriction', 'contentRating', 'year', 'month_day', 'week_day',\n",
    " 'week', 'description_sentiment', 'description_wordcount', 'tags_wordcount', 'title_featuring', 'intitle_a', 'intitle_d', 'intitle_f',\n",
    " 'intitle_g', 'intitle_i', 'intitle_k', 'intitle_l', 'intitle_p', 'intitle_v', 'intitle_x', 'intitle_y', 'title_length', 'is_weekend',\n",
    " 'is_friday']"
   ]
  },
  {
   "cell_type": "code",
   "execution_count": 298,
   "metadata": {},
   "outputs": [],
   "source": [
    "df_for_reg = pd.read_csv('./data/engineered_data/data_engineered_10.9_2019.csv')\n",
    "\n",
    "df_for_reg.loc[:, ['vidId']] = df_for_reg.vidId.map(lambda x: 'https://www.youtube.com/watch?v='+str(x))\n",
    "\n",
    "df_for_reg = df_for_reg.loc[:,cols_include+['vidId', 'view_log']]"
   ]
  },
  {
   "cell_type": "code",
   "execution_count": 316,
   "metadata": {},
   "outputs": [],
   "source": [
    "def pred_views(video_link):\n",
    "    actual_views = df_for_reg[df_for_reg.vidId==video_link]['view_log'].iloc[0]\n",
    "    data = df_for_reg[df_for_reg.vidId==video_link]\n",
    "    data = data.drop(['vidId', 'view_log'], axis=1)\n",
    "    data = pickle_ss.transform(data)\n",
    "    pred_views = pickle_model.predict(data)[0]\n",
    "    print('   predicted views: ',  \"{:,}\".format(round(10**pred_views,0)))\n",
    "    print('   actual views: ',\"{:,}\".format(round(10**actual_views,0)) )\n",
    "    \n",
    "    if pred_views > actual_views + pickle_deviation:\n",
    "        print('   Higher views than expected')\n",
    "    elif pred_views < actual_views - pickle_deviation:\n",
    "        print('   Lower views than expected')\n",
    "    else:\n",
    "        print('   views within reason of predicted')"
   ]
  },
  {
   "cell_type": "code",
   "execution_count": 317,
   "metadata": {},
   "outputs": [
    {
     "name": "stdout",
     "output_type": "stream",
     "text": [
      "   predicted views:  31,223,842.0\n",
      "   actual views:  72,473,706.0\n",
      "   views within reason of predicted\n"
     ]
    }
   ],
   "source": [
    "pred_views('https://www.youtube.com/watch?v=AGFOXpgsw1M')"
   ]
  },
  {
   "cell_type": "markdown",
   "metadata": {},
   "source": [
    "# <a class=\"anchor\" id=\"2.0-bullet\">2. Unsupervised Classification</a>"
   ]
  },
  {
   "cell_type": "code",
   "execution_count": 91,
   "metadata": {},
   "outputs": [],
   "source": [
    "df_forclass = df_formodel.loc[:, genre_list_str + deltas_list] #"
   ]
  },
  {
   "cell_type": "code",
   "execution_count": 92,
   "metadata": {},
   "outputs": [],
   "source": [
    "from sklearn.cluster import DBSCAN, KMeans"
   ]
  },
  {
   "cell_type": "code",
   "execution_count": 93,
   "metadata": {},
   "outputs": [],
   "source": [
    "from sklearn.metrics import silhouette_score"
   ]
  },
  {
   "cell_type": "code",
   "execution_count": 94,
   "metadata": {},
   "outputs": [],
   "source": [
    "ss = StandardScaler()\n",
    "df_forclass_sc = ss.fit_transform(df_forclass)"
   ]
  },
  {
   "cell_type": "code",
   "execution_count": 95,
   "metadata": {},
   "outputs": [
    {
     "data": {
      "text/plain": [
       "25"
      ]
     },
     "execution_count": 95,
     "metadata": {},
     "output_type": "execute_result"
    }
   ],
   "source": [
    "len(genre_list_str)"
   ]
  },
  {
   "cell_type": "code",
   "execution_count": 96,
   "metadata": {
    "scrolled": true
   },
   "outputs": [
    {
     "name": "stdout",
     "output_type": "stream",
     "text": [
      "   n:  3  silhouette:  0.1698919696883571  intertia:  185026.50293517887\n",
      "   n:  4  silhouette:  0.17725714259686084  intertia:  177669.46635614813\n",
      "   n:  5  silhouette:  0.1928527186211659  intertia:  170324.22010251923\n",
      "   n:  6  silhouette:  0.18106345772469506  intertia:  162860.62769179002\n",
      "   n:  7  silhouette:  0.1987430862751783  intertia:  155605.20839611432\n",
      "   n:  8  silhouette:  0.2025850486471669  intertia:  148190.85605236646\n",
      "   n:  9  silhouette:  0.19913572737379134  intertia:  140585.19263290137\n",
      "   n:  10  silhouette:  0.22717058748844657  intertia:  135154.19875391925\n",
      "   n:  11  silhouette:  0.20825602476092975  intertia:  125735.30671127798\n",
      "   n:  12  silhouette:  0.21801443089950068  intertia:  119525.80963753618\n",
      "   n:  13  silhouette:  0.2329695335520878  intertia:  112372.64320652449\n",
      "   n:  14  silhouette:  0.23557979535492224  intertia:  104832.78725495806\n",
      "   n:  15  silhouette:  0.24073564942971692  intertia:  98067.39820737082\n",
      "   n:  16  silhouette:  0.25582568458736005  intertia:  91550.41794848102\n",
      "   n:  17  silhouette:  0.2506853586605636  intertia:  85031.62284731801\n",
      "   n:  18  silhouette:  0.2684610075710684  intertia:  77156.06002286494\n",
      "   n:  19  silhouette:  0.2605135463651955  intertia:  70185.72588393708\n",
      "   n:  20  silhouette:  0.4990190621413667  intertia:  67315.59574816989\n",
      "   n:  21  silhouette:  0.2826689118637467  intertia:  61399.8253865771\n",
      "   n:  22  silhouette:  0.296448541333965  intertia:  54872.430961796155\n",
      "   n:  23  silhouette:  0.31768685331038293  intertia:  47786.35174590581\n",
      "   n:  24  silhouette:  0.26440920758363107  intertia:  46246.4594500446\n",
      "   n:  25  silhouette:  0.27287592233410146  intertia:  40509.51363792744\n",
      "   n:  26  silhouette:  0.2926798853656807  intertia:  38021.999557089664\n",
      "   n:  27  silhouette:  0.2974892020834071  intertia:  35779.738068204424\n",
      "   n:  28  silhouette:  0.3119066325707691  intertia:  33644.597036767635\n",
      "   n:  29  silhouette:  0.30397259106714847  intertia:  31999.315552208136\n",
      "   n:  30  silhouette:  0.3072188273595107  intertia:  31063.815521489192\n",
      "   n:  31  silhouette:  0.31845329211182277  intertia:  29812.26263005634\n",
      "   n:  32  silhouette:  0.32636050019466323  intertia:  27932.268501837756\n",
      "   n:  33  silhouette:  0.3235054330526858  intertia:  27762.918389472678\n",
      "   n:  34  silhouette:  0.3310001996458074  intertia:  26535.381525204786\n",
      "   n:  35  silhouette:  0.30639929649322295  intertia:  26756.533625717875\n",
      "   n:  36  silhouette:  0.3294098101929507  intertia:  25606.01676738657\n",
      "   n:  37  silhouette:  0.30713552571630776  intertia:  24765.244744832788\n",
      "   n:  38  silhouette:  0.3085075010370321  intertia:  24160.550442570355\n",
      "   n:  39  silhouette:  0.3086408708519733  intertia:  23580.236780428095\n"
     ]
    }
   ],
   "source": [
    "n_dict = {}\n",
    "for n in range(3, 40): \n",
    "    k_classifier = KMeans(n_clusters=n, random_state=42)\n",
    "    n_dict[n] = silhouette_score(df_forclass_sc, k_classifier.fit_predict(df_forclass_sc)) \n",
    "    print('   n: ', n, ' silhouette: ', n_dict[n], ' intertia: ' , k_classifier.inertia_)"
   ]
  },
  {
   "cell_type": "code",
   "execution_count": 97,
   "metadata": {},
   "outputs": [
    {
     "data": {
      "text/plain": [
       "[<matplotlib.lines.Line2D at 0x1d361c7e080>]"
      ]
     },
     "execution_count": 97,
     "metadata": {},
     "output_type": "execute_result"
    },
    {
     "data": {
      "image/png": "[encoded data removed]",
      "text/plain": [
       "<Figure size 432x288 with 1 Axes>"
      ]
     },
     "metadata": {},
     "output_type": "display_data"
    }
   ],
   "source": [
    "fig, ax = plt.subplots()\n",
    "ax.plot(n_dict.keys(), n_dict.values())"
   ]
  },
  {
   "cell_type": "code",
   "execution_count": 103,
   "metadata": {},
   "outputs": [],
   "source": [
    "#['tags_sentiment', 'description_sentiment', 'description_wordcount', 'title_featuring', 'duration', 'year', 'title_length', 'lv_ratio', 'view_log']"
   ]
  },
  {
   "cell_type": "code",
   "execution_count": 98,
   "metadata": {},
   "outputs": [
    {
     "data": {
      "text/plain": [
       "KMeans(algorithm='auto', copy_x=True, init='k-means++', max_iter=300,\n",
       "    n_clusters=2, n_init=10, n_jobs=1, precompute_distances='auto',\n",
       "    random_state=42, tol=0.0001, verbose=0)"
      ]
     },
     "execution_count": 98,
     "metadata": {},
     "output_type": "execute_result"
    }
   ],
   "source": [
    "k_classifier = KMeans(n_clusters=2, random_state=42)\n",
    "k_classifier.fit(df_forclass_sc)"
   ]
  },
  {
   "cell_type": "code",
   "execution_count": 99,
   "metadata": {},
   "outputs": [],
   "source": [
    "df_formodel['k_class'] = k_classifier.predict(df_forclass_sc)"
   ]
  },
  {
   "cell_type": "code",
   "execution_count": 100,
   "metadata": {},
   "outputs": [],
   "source": [
    "df_formodel.loc[:, genre_list_str+['k_class', 'lv_ratio']].groupby('k_class').sum().T.to_csv('./data/classifieds/genre_classes.csv')"
   ]
  },
  {
   "cell_type": "markdown",
   "metadata": {},
   "source": [
    "### DBScan"
   ]
  },
  {
   "cell_type": "code",
   "execution_count": 126,
   "metadata": {},
   "outputs": [
    {
     "name": "stdout",
     "output_type": "stream",
     "text": [
      "    eps: 1, min samples: 5, silhouette: 0.3362722711443068\n",
      "    eps: 1, min samples: 10, silhouette: 0.3126313844324043\n",
      "    eps: 1, min samples: 15, silhouette: 0.2979528890531242\n",
      "    eps: 1, min samples: 20, silhouette: 0.29027929382053813\n",
      "    eps: 1.5, min samples: 5, silhouette: 0.37477257187996316\n",
      "    eps: 1.5, min samples: 10, silhouette: 0.3570206918692192\n",
      "    eps: 1.5, min samples: 15, silhouette: 0.3391873545125493\n",
      "    eps: 1.5, min samples: 20, silhouette: 0.32801740010935404\n",
      "    eps: 2, min samples: 5, silhouette: 0.38631089075254615\n",
      "    eps: 2, min samples: 10, silhouette: 0.3725272565736701\n",
      "    eps: 2, min samples: 15, silhouette: 0.3580162399433953\n",
      "    eps: 2, min samples: 20, silhouette: 0.3505972275163584\n",
      "    eps: 2.5, min samples: 5, silhouette: 0.3891339160440316\n",
      "    eps: 2.5, min samples: 10, silhouette: 0.38076338695256273\n",
      "    eps: 2.5, min samples: 15, silhouette: 0.3679599826004187\n",
      "    eps: 2.5, min samples: 20, silhouette: 0.35759256006750967\n",
      "   done. \n"
     ]
    }
   ],
   "source": [
    "for epsz in [1, 1.5, 2, 2.5 ]:\n",
    "    for min_samplesz in [5, 10, 15, 20]:\n",
    "        db_model = DBSCAN(eps=epsz, min_samples=min_samplesz)\n",
    "        db_preds = db_model.fit_predict(df_forclass_sc)\n",
    "        try: \n",
    "            print('    eps: {}, min samples: {}, silhouette: {}'.format( epsz, min_samplesz, silhouette_score(df_forclass_sc, db_preds)))\n",
    "        except:\n",
    "            print('    eps: {}, min samples: {}, bad value'.format( epsz, min_samplesz, ))\n",
    "print('   done. ')\n",
    "#pd.DataFrame(db_preds, columns=['class'])['class'].value_counts()"
   ]
  },
  {
   "cell_type": "code",
   "execution_count": 127,
   "metadata": {},
   "outputs": [],
   "source": [
    "db_model = DBSCAN(eps=2, min_samples=5)\n",
    "db_preds = db_model.fit_predict(df_forclass_sc)"
   ]
  },
  {
   "cell_type": "code",
   "execution_count": 128,
   "metadata": {
    "scrolled": true
   },
   "outputs": [
    {
     "data": {
      "text/plain": [
       " 0     5040\n",
       " 2      498\n",
       "-1      280\n",
       " 6      230\n",
       " 18     132\n",
       " 3      124\n",
       " 24     108\n",
       " 15      79\n",
       " 4       71\n",
       " 7       69\n",
       " 14      63\n",
       " 19      62\n",
       " 8       55\n",
       " 9       51\n",
       " 22      50\n",
       " 11      38\n",
       " 25      35\n",
       " 17      31\n",
       " 16      22\n",
       " 5       21\n",
       " 33      21\n",
       " 37      21\n",
       " 23      19\n",
       " 10      17\n",
       " 13      17\n",
       " 29      17\n",
       " 43      15\n",
       " 12      13\n",
       " 21      12\n",
       " 28      12\n",
       " 1       11\n",
       " 44      11\n",
       " 26      11\n",
       " 30      10\n",
       " 31      10\n",
       " 35      10\n",
       " 38       9\n",
       " 42       9\n",
       " 20       9\n",
       " 34       8\n",
       " 32       8\n",
       " 27       8\n",
       " 40       6\n",
       " 41       6\n",
       " 36       5\n",
       " 39       5\n",
       " 45       5\n",
       "dtype: int64"
      ]
     },
     "execution_count": 128,
     "metadata": {},
     "output_type": "execute_result"
    }
   ],
   "source": [
    "pd.Series(db_preds).value_counts()"
   ]
  },
  {
   "cell_type": "code",
   "execution_count": 129,
   "metadata": {},
   "outputs": [],
   "source": [
    "df_db_classes = df_formodel\n",
    "\n",
    "df_db_classes['db_class'] = db_preds"
   ]
  },
  {
   "cell_type": "code",
   "execution_count": 130,
   "metadata": {},
   "outputs": [
    {
     "data": {
      "text/html": [
       "<div>\n",
       "<style scoped>\n",
       "    .dataframe tbody tr th:only-of-type {\n",
       "        vertical-align: middle;\n",
       "    }\n",
       "\n",
       "    .dataframe tbody tr th {\n",
       "        vertical-align: top;\n",
       "    }\n",
       "\n",
       "    .dataframe thead th {\n",
       "        text-align: right;\n",
       "    }\n",
       "</style>\n",
       "<table border=\"1\" class=\"dataframe\">\n",
       "  <thead>\n",
       "    <tr style=\"text-align: right;\">\n",
       "      <th></th>\n",
       "      <th>title</th>\n",
       "      <th>description</th>\n",
       "    </tr>\n",
       "  </thead>\n",
       "  <tbody>\n",
       "    <tr>\n",
       "      <th>0</th>\n",
       "      <td>P. Tchaikovsky - Pas de Deux ('The Nutcracker')</td>\n",
       "      <td>Pas de deux from 'The Nutcracker'.\\r\\r\\r\\r\\r\\n...</td>\n",
       "    </tr>\n",
       "    <tr>\n",
       "      <th>2</th>\n",
       "      <td>Billy Sings A Song ('The Loser Club Song' Ft. ...</td>\n",
       "      <td>I felt like the 'Loser Club' needed an officia...</td>\n",
       "    </tr>\n",
       "    <tr>\n",
       "      <th>3</th>\n",
       "      <td>Timmy Trumpet - Freaks ('Spinnin Launchpad Cover)</td>\n",
       "      <td>Hey guys! Today I played Freaks by Timmy Trump...</td>\n",
       "    </tr>\n",
       "    <tr>\n",
       "      <th>4</th>\n",
       "      <td>[CHOREOGRAPHY] BTS (방탄소년단) 정국이랑 지민이 ('Own it' ...</td>\n",
       "      <td>BTS Official Homepage http://bts.ibighit.com\\r...</td>\n",
       "    </tr>\n",
       "    <tr>\n",
       "      <th>7</th>\n",
       "      <td>(여자)아이들((G)I-DLE) - '한(一)(HANN(Alone))' (Chore...</td>\n",
       "      <td>[Digital Single] (여자)아이들 - 한(一)(HANN((Alone)\\r...</td>\n",
       "    </tr>\n",
       "    <tr>\n",
       "      <th>10</th>\n",
       "      <td>Righteous Brothers - Ghost -  Unchained Melody...</td>\n",
       "      <td>NaN</td>\n",
       "    </tr>\n",
       "  </tbody>\n",
       "</table>\n",
       "</div>"
      ],
      "text/plain": [
       "                                                title  \\\n",
       "0     P. Tchaikovsky - Pas de Deux ('The Nutcracker')   \n",
       "2   Billy Sings A Song ('The Loser Club Song' Ft. ...   \n",
       "3   Timmy Trumpet - Freaks ('Spinnin Launchpad Cover)   \n",
       "4   [CHOREOGRAPHY] BTS (방탄소년단) 정국이랑 지민이 ('Own it' ...   \n",
       "7   (여자)아이들((G)I-DLE) - '한(一)(HANN(Alone))' (Chore...   \n",
       "10  Righteous Brothers - Ghost -  Unchained Melody...   \n",
       "\n",
       "                                          description  \n",
       "0   Pas de deux from 'The Nutcracker'.\\r\\r\\r\\r\\r\\n...  \n",
       "2   I felt like the 'Loser Club' needed an officia...  \n",
       "3   Hey guys! Today I played Freaks by Timmy Trump...  \n",
       "4   BTS Official Homepage http://bts.ibighit.com\\r...  \n",
       "7   [Digital Single] (여자)아이들 - 한(一)(HANN((Alone)\\r...  \n",
       "10                                                NaN  "
      ]
     },
     "execution_count": 130,
     "metadata": {},
     "output_type": "execute_result"
    }
   ],
   "source": [
    "df_db_classes[df_db_classes.db_class==0].loc[:10, ['title', 'description']]"
   ]
  },
  {
   "cell_type": "code",
   "execution_count": null,
   "metadata": {},
   "outputs": [],
   "source": []
  }
 ],
 "metadata": {
  "kernelspec": {
   "display_name": "Python 3",
   "language": "python",
   "name": "python3"
  },
  "language_info": {
   "codemirror_mode": {
    "name": "ipython",
    "version": 3
   },
   "file_extension": ".py",
   "mimetype": "text/x-python",
   "name": "python",
   "nbconvert_exporter": "python",
   "pygments_lexer": "ipython3",
   "version": "3.6.5"
  }
 },
 "nbformat": 4,
 "nbformat_minor": 2
}
